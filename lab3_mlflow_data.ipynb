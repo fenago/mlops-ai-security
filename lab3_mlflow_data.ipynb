{
 "cells": [
  {
   "cell_type": "markdown",
   "id": "d05fd549-5dcc-440a-9d3e-cc3f0f6fc990",
   "metadata": {},
   "source": [
    "### mlflow.data"
   ]
  },
  {
   "cell_type": "code",
   "execution_count": null,
   "id": "45232052-daa0-41a4-894c-fe6471b099f8",
   "metadata": {},
   "outputs": [],
   "source": [
    "import mlflow.data\n",
    "import pandas as pd\n",
    "from mlflow.data.pandas_dataset import PandasDataset\n",
    "\n",
    "# Construct a Pandas DataFrame using iris flower data from a web URL\n",
    "dataset_source_url = \"http://archive.ics.uci.edu/ml/machine-learning-databases/wine-quality/winequality-red.csv\"\n",
    "df = pd.read_csv(dataset_source_url)\n",
    "# Construct an MLflow PandasDataset from the Pandas DataFrame, and specify the web URL\n",
    "# as the source\n",
    "dataset: PandasDataset = mlflow.data.from_pandas(df, source=dataset_source_url)\n",
    "\n",
    "with mlflow.start_run():\n",
    "    # Log the dataset to the MLflow Run. Specify the \"training\" context to indicate that the\n",
    "    # dataset is used for model training\n",
    "    mlflow.log_input(dataset, context=\"training\")\n",
    "\n",
    "# Retrieve the run, including dataset information\n",
    "run = mlflow.get_run(mlflow.last_active_run().info.run_id)\n",
    "dataset_info = run.inputs.dataset_inputs[0].dataset\n",
    "print(f\"Dataset name: {dataset_info.name}\")\n",
    "print(f\"Dataset digest: {dataset_info.digest}\")\n",
    "print(f\"Dataset profile: {dataset_info.profile}\")\n",
    "print(f\"Dataset schema: {dataset_info.schema}\")\n",
    "\n",
    "# Load the dataset's source, which downloads the content from the source URL to the local\n",
    "# filesystem\n",
    "dataset_source = mlflow.data.get_source(dataset_info)\n",
    "dataset_source.load()\n"
   ]
  },
  {
   "cell_type": "code",
   "execution_count": null,
   "id": "083e3d82-881c-45f3-bad2-1516aabf6149",
   "metadata": {},
   "outputs": [],
   "source": []
  },
  {
   "cell_type": "markdown",
   "id": "2caf26aa-acd4-4d92-ba51-fbe414f8d8f3",
   "metadata": {},
   "source": [
    "### Pandas"
   ]
  },
  {
   "cell_type": "code",
   "execution_count": null,
   "id": "bf52f407-46ce-4510-9856-87985802658d",
   "metadata": {},
   "outputs": [],
   "source": [
    "import mlflow\n",
    "import pandas as pd\n",
    "\n",
    "x = pd.DataFrame(\n",
    "    [[\"tom\", 10, 1, 1], [\"nick\", 15, 0, 1], [\"juli\", 14, 1, 1]],\n",
    "    columns=[\"Name\", \"Age\", \"Label\", \"ModelOutput\"],\n",
    ")\n",
    "dataset = mlflow.data.from_pandas(x, targets=\"Label\", predictions=\"ModelOutput\")\n"
   ]
  },
  {
   "cell_type": "code",
   "execution_count": null,
   "id": "0782fa61-59b9-40c3-b690-ad76b639c11f",
   "metadata": {},
   "outputs": [],
   "source": []
  },
  {
   "cell_type": "markdown",
   "id": "f2493c9e-00ad-485b-9b99-5773bf5b6e45",
   "metadata": {},
   "source": [
    "### Numpy"
   ]
  },
  {
   "cell_type": "markdown",
   "id": "4193919e-fee5-424d-aa6c-ed068d04d4a9",
   "metadata": {},
   "source": [
    "#### Basic Example"
   ]
  },
  {
   "cell_type": "code",
   "execution_count": null,
   "id": "36c45071-027a-432f-8056-2a074a114469",
   "metadata": {},
   "outputs": [],
   "source": [
    "import mlflow\n",
    "import numpy as np\n",
    "\n",
    "x = np.random.uniform(size=[2, 5, 4])\n",
    "y = np.random.randint(2, size=[2])\n",
    "dataset = mlflow.data.from_numpy(x, targets=y)\n"
   ]
  },
  {
   "cell_type": "code",
   "execution_count": null,
   "id": "5b2fcd1a-23d7-4be6-972a-0aed15a51b23",
   "metadata": {},
   "outputs": [],
   "source": []
  },
  {
   "cell_type": "markdown",
   "id": "6554f79f-0773-40de-bbe7-d7294d9c1c21",
   "metadata": {},
   "source": [
    "#### Dict Example"
   ]
  },
  {
   "cell_type": "code",
   "execution_count": null,
   "id": "1a0dc5e8-201c-4135-a955-0bb77aeddf10",
   "metadata": {},
   "outputs": [],
   "source": [
    "import mlflow\n",
    "import numpy as np\n",
    "\n",
    "x = {\n",
    "    \"feature_1\": np.random.uniform(size=[2, 5, 4]),\n",
    "    \"feature_2\": np.random.uniform(size=[2, 5, 4]),\n",
    "}\n",
    "y = np.random.randint(2, size=[2])\n",
    "dataset = mlflow.data.from_numpy(x, targets=y)\n"
   ]
  },
  {
   "cell_type": "code",
   "execution_count": null,
   "id": "13302710-dbb1-4e5e-aadd-0b5bcbd66c82",
   "metadata": {},
   "outputs": [],
   "source": []
  }
 ],
 "metadata": {
  "kernelspec": {
   "display_name": "Python 3 (ipykernel)",
   "language": "python",
   "name": "python3"
  },
  "language_info": {
   "codemirror_mode": {
    "name": "ipython",
    "version": 3
   },
   "file_extension": ".py",
   "mimetype": "text/x-python",
   "name": "python",
   "nbconvert_exporter": "python",
   "pygments_lexer": "ipython3",
   "version": "3.9.7"
  }
 },
 "nbformat": 4,
 "nbformat_minor": 5
}
