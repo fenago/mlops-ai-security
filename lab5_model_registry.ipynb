{
 "cells": [
  {
   "cell_type": "code",
   "execution_count": null,
   "id": "8169f417-3d18-4872-8296-beb678493cf6",
   "metadata": {},
   "outputs": [],
   "source": [
    "from sklearn.datasets import make_regression\n",
    "from sklearn.ensemble import RandomForestRegressor\n",
    "from sklearn.metrics import mean_squared_error\n",
    "from sklearn.model_selection import train_test_split\n",
    "\n",
    "import mlflow\n",
    "import mlflow.sklearn\n",
    "from mlflow.models import infer_signature\n",
    "\n",
    "mlflow.set_tracking_uri(\"http://127.0.0.1:8081\")\n",
    "\n",
    "with mlflow.start_run() as run:\n",
    "    X, y = make_regression(n_features=4, n_informative=2, random_state=0, shuffle=False)\n",
    "    X_train, X_test, y_train, y_test = train_test_split(\n",
    "        X, y, test_size=0.2, random_state=42\n",
    "    )\n",
    "    params = {\"max_depth\": 2, \"random_state\": 42}\n",
    "    model = RandomForestRegressor(**params)\n",
    "    model.fit(X_train, y_train)\n",
    "\n",
    "    # Infer the model signature\n",
    "    y_pred = model.predict(X_test)\n",
    "    signature = infer_signature(X_test, y_pred)\n",
    "\n",
    "    # Log parameters and metrics using the MLflow APIs\n",
    "    mlflow.log_params(params)\n",
    "    mlflow.log_metrics({\"mse\": mean_squared_error(y_test, y_pred)})\n",
    "\n",
    "    # Log the sklearn model and register as version 1\n",
    "    mlflow.sklearn.log_model(\n",
    "        sk_model=model,\n",
    "        artifact_path=\"sklearn-model\",\n",
    "        signature=signature,\n",
    "        registered_model_name=\"sk-learn-random-forest-reg-model\",\n",
    "    )\n"
   ]
  },
  {
   "cell_type": "code",
   "execution_count": null,
   "id": "91445d51-deed-42c7-bca7-34e88115c693",
   "metadata": {},
   "outputs": [],
   "source": [
    "# Note: You can get the value from MLFLow UI\n",
    "\n",
    "result = mlflow.register_model(\n",
    "    \"UPDATE_HERE\", \"sk-learn-random-forest-reg\"\n",
    ")\n",
    "# Example:\n",
    "# result = mlflow.register_model(\n",
    "#     \"runs:/1eb52d7d4a354856a52dd8598462d87d/sklearn-model\", \"sk-learn-random-forest-reg\"\n",
    "# )\n"
   ]
  },
  {
   "cell_type": "code",
   "execution_count": null,
   "id": "fc12184b-6a31-40d2-8773-3b13c0170819",
   "metadata": {},
   "outputs": [],
   "source": []
  },
  {
   "cell_type": "code",
   "execution_count": null,
   "id": "01987056-2ddc-4037-ae95-bb91ad600037",
   "metadata": {},
   "outputs": [],
   "source": [
    "from mlflow import MlflowClient\n",
    "\n",
    "client = MlflowClient()\n",
    "client.create_registered_model(\"sk-learn-random-forest-reg-model\")\n",
    "\n",
    "# Note: You will get and error since model \"sk-learn-random-forest-reg-model\" already exists."
   ]
  },
  {
   "cell_type": "code",
   "execution_count": null,
   "id": "dcbb4be5-e4f2-4e82-bd14-674ff92974aa",
   "metadata": {},
   "outputs": [],
   "source": [
    "client = MlflowClient()\n",
    "result = client.create_model_version(\n",
    "    name=\"sk-learn-random-forest-reg-model\",\n",
    "    source=\"UPDATE_HERE\",\n",
    "    run_id=\"UPDATE_HERE\",\n",
    ")\n",
    "# Note: You can get the above values from MLFLow UI\n",
    "\n",
    "## Example:\n",
    "# result = client.create_model_version(\n",
    "#     name=\"sk-learn-random-forest-reg-model\",\n",
    "#     source=\"mlflow-artifacts:/0/1eb52d7d4a354856a52dd8598462d87d/artifacts/sklearn-model\",\n",
    "#     run_id=\"1eb52d7d4a354856a52dd8598462d87d\",\n",
    "# )"
   ]
  },
  {
   "cell_type": "code",
   "execution_count": null,
   "id": "f61be533-f493-4273-a585-b767514c7ea9",
   "metadata": {},
   "outputs": [],
   "source": []
  },
  {
   "cell_type": "code",
   "execution_count": null,
   "id": "60733a80-88d4-4903-9dfa-ae256032f120",
   "metadata": {},
   "outputs": [],
   "source": []
  },
  {
   "cell_type": "code",
   "execution_count": null,
   "id": "e34b3df8-3cfe-4f48-8e77-cbd7dcd3d37d",
   "metadata": {},
   "outputs": [],
   "source": [
    "import mlflow.pyfunc\n",
    "\n",
    "model_name = \"sk-learn-random-forest-reg-model\"\n",
    "model_version = 1\n",
    "\n",
    "model = mlflow.pyfunc.load_model(model_uri=f\"models:/{model_name}/{model_version}\")\n",
    "\n",
    "X, y = make_regression(n_features=4, n_informative=2, random_state=0, shuffle=False)\n",
    "X_train, X_test, y_train, y_test = train_test_split(\n",
    "    X, y, test_size=0.2, random_state=42\n",
    ")\n",
    "\n",
    "model.predict(X_test)\n"
   ]
  },
  {
   "cell_type": "code",
   "execution_count": null,
   "id": "2b3e7040-1eba-40a6-acfe-4ce6c7912835",
   "metadata": {},
   "outputs": [],
   "source": []
  },
  {
   "cell_type": "code",
   "execution_count": null,
   "id": "a39c00d2-5bb9-4f90-be9d-65c09e08c2f1",
   "metadata": {},
   "outputs": [],
   "source": [
    "# Archive models version 1 from Production into Archived\n",
    "client = MlflowClient()\n",
    "client.transition_model_version_stage(\n",
    "    name=\"sk-learn-random-forest-reg-model\", version=1, stage=\"Archived\"\n",
    ")\n"
   ]
  },
  {
   "cell_type": "code",
   "execution_count": null,
   "id": "cefb0ce5-594e-448d-a5a3-db35940dc25b",
   "metadata": {},
   "outputs": [],
   "source": []
  }
 ],
 "metadata": {
  "kernelspec": {
   "display_name": "Python 3 (ipykernel)",
   "language": "python",
   "name": "python3"
  },
  "language_info": {
   "codemirror_mode": {
    "name": "ipython",
    "version": 3
   },
   "file_extension": ".py",
   "mimetype": "text/x-python",
   "name": "python",
   "nbconvert_exporter": "python",
   "pygments_lexer": "ipython3",
   "version": "3.9.7"
  }
 },
 "nbformat": 4,
 "nbformat_minor": 5
}
