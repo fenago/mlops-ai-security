{
 "cells": [
  {
   "cell_type": "markdown",
   "id": "08793612-8390-419d-83ba-c5a48d91900d",
   "metadata": {},
   "source": [
    "### Automatic Logging with MLflow Tracking\n"
   ]
  },
  {
   "cell_type": "code",
   "execution_count": null,
   "id": "1665eb93-2c40-41e6-b520-15205979263a",
   "metadata": {},
   "outputs": [],
   "source": []
  },
  {
   "cell_type": "code",
   "execution_count": null,
   "id": "59737515-832b-4a92-ab85-842f38949bd3",
   "metadata": {},
   "outputs": [],
   "source": [
    "import mlflow\n",
    "\n",
    "mlflow.set_tracking_uri(\"http://localhost:5000\")\n",
    "mlflow.set_experiment(\"check-localhost-connection\")\n",
    "\n",
    "with mlflow.start_run():\n",
    "    mlflow.log_metric(\"foo\", 1)\n",
    "    mlflow.log_metric(\"bar\", 2)"
   ]
  },
  {
   "cell_type": "code",
   "execution_count": null,
   "id": "6faa987c-5db4-434c-870b-4db016cd9bb7",
   "metadata": {},
   "outputs": [],
   "source": [
    "import mlflow\n",
    "\n",
    "from sklearn.model_selection import train_test_split\n",
    "from sklearn.datasets import load_diabetes\n",
    "from sklearn.ensemble import RandomForestRegressor\n",
    "\n",
    "mlflow.autolog()\n",
    "\n",
    "db = load_diabetes()\n",
    "X_train, X_test, y_train, y_test = train_test_split(db.data, db.target)\n",
    "\n",
    "rf = RandomForestRegressor(n_estimators=100, max_depth=6, max_features=3)\n",
    "# MLflow triggers logging automatically upon model fitting\n",
    "rf.fit(X_train, y_train)\n"
   ]
  },
  {
   "cell_type": "code",
   "execution_count": null,
   "id": "af9ec878-84bc-4ebd-88ed-cbe0b827d64d",
   "metadata": {},
   "outputs": [],
   "source": []
  },
  {
   "cell_type": "code",
   "execution_count": null,
   "id": "531cbedc-5080-4c6e-8354-c0da6c8924db",
   "metadata": {},
   "outputs": [],
   "source": [
    "import mlflow\n",
    "\n",
    "mlflow.autolog(\n",
    "    log_model_signatures=False,\n",
    "    extra_tags={\"YOUR_TAG\": \"VALUE\"},\n",
    ")\n"
   ]
  },
  {
   "cell_type": "code",
   "execution_count": null,
   "id": "aacf2752-328a-49b4-8cf7-9b17ac5053b4",
   "metadata": {},
   "outputs": [],
   "source": []
  },
  {
   "cell_type": "code",
   "execution_count": null,
   "id": "923fe806-27c8-4b30-9f97-9024e9775135",
   "metadata": {},
   "outputs": [],
   "source": [
    "import mlflow\n",
    "\n",
    "# Option 1: Enable autologging only for tensorflow\n",
    "mlflow.tensorflow.autolog()\n",
    "\n",
    "# Option 2: Disable autologging for scikit-learn, but enable it for other libraries\n",
    "mlflow.sklearn.autolog(disable=True)\n",
    "mlflow.autolog()\n"
   ]
  },
  {
   "cell_type": "code",
   "execution_count": null,
   "id": "2b0ae6ee-d27d-4f35-8ca6-aa74a7999153",
   "metadata": {},
   "outputs": [],
   "source": []
  }
 ],
 "metadata": {
  "kernelspec": {
   "display_name": "Python 3 (ipykernel)",
   "language": "python",
   "name": "python3"
  },
  "language_info": {
   "codemirror_mode": {
    "name": "ipython",
    "version": 3
   },
   "file_extension": ".py",
   "mimetype": "text/x-python",
   "name": "python",
   "nbconvert_exporter": "python",
   "pygments_lexer": "ipython3",
   "version": "3.9.7"
  }
 },
 "nbformat": 4,
 "nbformat_minor": 5
}
