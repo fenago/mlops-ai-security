{
 "cells": [
  {
   "cell_type": "code",
   "execution_count": null,
   "id": "e657c301-4b25-4965-8584-224625f192ce",
   "metadata": {},
   "outputs": [],
   "source": [
    "import mlflow\n",
    "import numpy as np\n",
    "\n",
    "mlflow.set_experiment(\"search-run-guide\")\n",
    "\n",
    "accuracy = np.arange(0, 1, 0.1)\n",
    "loss = np.arange(1, 0, -0.1)\n",
    "log_scale_loss = np.log(loss)\n",
    "f1_score = np.arange(0, 1, 0.1)\n",
    "\n",
    "batch_size = [2] * 5 + [4] * 5\n",
    "learning_rate = [0.001, 0.01] * 5\n",
    "model = [\"GPT-2\", \"GPT-3\", \"GPT-3.5\", \"GPT-4\"] + [None] * 6\n",
    "\n",
    "task = [\"classification\", \"regression\", \"causal lm\"] + [None] * 7\n",
    "environment = [\"notebook\"] * 5 + [None] * 5\n",
    "\n",
    "dataset_name = [\"custom\"] * 5 + [\"also custom\"] * 5\n",
    "dataset_digest = [\"s8ds293b\", \"jks834s2\"] + [None] * 8\n",
    "dataset_context = [\"train\"] * 5 + [\"test\"] * 5\n",
    "\n",
    "for i in range(10):\n",
    "    with mlflow.start_run():\n",
    "        mlflow.log_metrics(\n",
    "            {\n",
    "                \"loss\": loss[i],\n",
    "                \"accuracy\": accuracy[i],\n",
    "                \"log-scale-loss\": log_scale_loss[i],\n",
    "                \"f1 score\": f1_score[i],\n",
    "            }\n",
    "        )\n",
    "\n",
    "        mlflow.log_params(\n",
    "            {\n",
    "                \"batch_size\": batch_size[i],\n",
    "                \"learning rate\": learning_rate[i],\n",
    "                \"model\": model[i],\n",
    "            }\n",
    "        )\n",
    "\n",
    "        mlflow.set_tags(\n",
    "            {\n",
    "                \"task\": task[i],\n",
    "                \"environment\": environment[i],\n",
    "            }\n",
    "        )\n",
    "\n",
    "        dataset = mlflow.data.from_numpy(\n",
    "            features=np.random.uniform(size=[20, 28, 28, 3]),\n",
    "            targets=np.random.randint(0, 10, size=[20]),\n",
    "            name=dataset_name[i],\n",
    "            digest=dataset_digest[i],\n",
    "        )\n",
    "        mlflow.log_input(dataset, context=dataset_context[i])\n"
   ]
  },
  {
   "cell_type": "code",
   "execution_count": null,
   "id": "eb226c13-6069-4f28-96f2-636de8ee8c54",
   "metadata": {},
   "outputs": [],
   "source": []
  },
  {
   "cell_type": "code",
   "execution_count": null,
   "id": "bb1a55c0-5f07-4ace-8288-03e300a8d656",
   "metadata": {},
   "outputs": [],
   "source": [
    "import mlflow\n",
    "\n",
    "all_runs = mlflow.search_runs(search_all_experiments=True)\n",
    "print(all_runs)\n"
   ]
  },
  {
   "cell_type": "code",
   "execution_count": null,
   "id": "607cecdd-3124-4d0e-aafd-fa616b5af971",
   "metadata": {},
   "outputs": [],
   "source": []
  },
  {
   "cell_type": "code",
   "execution_count": null,
   "id": "d7d987be-e398-4079-a201-e7d8d6cf4123",
   "metadata": {},
   "outputs": [],
   "source": [
    "import mlflow\n",
    "\n",
    "bad_runs = mlflow.search_runs(\n",
    "    filter_string=\"metrics.loss > 0.8\", search_all_experiments=True\n",
    ")\n",
    "print(bad_runs)\n"
   ]
  },
  {
   "cell_type": "code",
   "execution_count": null,
   "id": "f4d1a57c-11eb-43fc-809c-546c8726081f",
   "metadata": {},
   "outputs": [],
   "source": []
  },
  {
   "cell_type": "code",
   "execution_count": null,
   "id": "52f91078-8952-403e-92fd-143551cec411",
   "metadata": {},
   "outputs": [],
   "source": []
  },
  {
   "cell_type": "code",
   "execution_count": null,
   "id": "bafaad7c-5766-46cd-ac0a-2bc94a5d9421",
   "metadata": {},
   "outputs": [],
   "source": [
    "import mlflow\n",
    "\n",
    "run_ids = [\"UPDATE_RUNID_HERE\", \"UPDATE_RUNID2_HERE\"]\n",
    "run_id_condition = \"'\" + \"','\".join(run_ids) + \"'\"\n",
    "\n",
    "complex_filter = f\"\"\"\n",
    "attributes.run_id IN ({run_id_condition})\n",
    "  AND metrics.loss > 0.3\n",
    "  AND metrics.\"f1 score\" < 0.5\n",
    "  AND params.model LIKE \"GPT%\"\n",
    "\"\"\"\n",
    "\n",
    "runs_with_complex_filter = mlflow.search_runs(\n",
    "    experiment_names=[\"search-run-guide\"],\n",
    "    filter_string=complex_filter,\n",
    ")\n",
    "print(runs_with_complex_filter)\n"
   ]
  },
  {
   "cell_type": "code",
   "execution_count": null,
   "id": "af8d1156-9afa-4359-a16e-a5031c60824d",
   "metadata": {},
   "outputs": [],
   "source": []
  },
  {
   "cell_type": "code",
   "execution_count": null,
   "id": "6834e3c7-362e-4949-a93f-68e827bc12f7",
   "metadata": {},
   "outputs": [],
   "source": [
    "import mlflow\n",
    "from mlflow.entities import ViewType\n",
    "\n",
    "active_runs = mlflow.search_runs(\n",
    "    experiment_names=[\"search-run-guide\"],\n",
    "    run_view_type=ViewType.ACTIVE_ONLY,\n",
    "    order_by=[\"metrics.accuracy DESC\"],\n",
    ")\n"
   ]
  },
  {
   "cell_type": "code",
   "execution_count": null,
   "id": "0fa96889-6e9e-423e-b751-e513ba2820fa",
   "metadata": {},
   "outputs": [],
   "source": []
  },
  {
   "cell_type": "code",
   "execution_count": null,
   "id": "8466dd82-0865-4afe-8712-0da5a715b629",
   "metadata": {},
   "outputs": [],
   "source": [
    "import mlflow\n",
    "from mlflow.entities import ViewType\n",
    "\n",
    "active_runs_ordered_by_accuracy = mlflow.search_runs(\n",
    "    experiment_names=[\"search-run-guide\"],\n",
    "    run_view_type=ViewType.ACTIVE_ONLY,\n",
    "    order_by=[\"metrics.accuracy DESC\"],\n",
    ")\n",
    "active_runs_ordered_by_accuracy"
   ]
  },
  {
   "cell_type": "code",
   "execution_count": null,
   "id": "e3893ecf-2803-4b0f-8c81-ba8dc26d8da2",
   "metadata": {},
   "outputs": [],
   "source": []
  },
  {
   "cell_type": "code",
   "execution_count": null,
   "id": "aaa1351e-a01d-47f3-9266-22c89832e41f",
   "metadata": {},
   "outputs": [],
   "source": [
    "import mlflow\n",
    "from mlflow.entities import ViewType\n",
    "\n",
    "highest_accuracy_run = mlflow.search_runs(\n",
    "    experiment_names=[\"search-run-guide\"],\n",
    "    run_view_type=ViewType.ACTIVE_ONLY,\n",
    "    max_results=1,\n",
    "    order_by=[\"metrics.accuracy DESC\"],\n",
    ")\n"
   ]
  },
  {
   "cell_type": "code",
   "execution_count": null,
   "id": "b5db4533-474d-45dc-bdf3-85d71daf3a27",
   "metadata": {},
   "outputs": [],
   "source": [
    "highest_accuracy_run"
   ]
  },
  {
   "cell_type": "code",
   "execution_count": null,
   "id": "9f1c9288-6450-48ca-8d0d-4aaf3441e4ca",
   "metadata": {},
   "outputs": [],
   "source": []
  },
  {
   "cell_type": "code",
   "execution_count": null,
   "id": "595f9f5f-d3bc-4434-8aee-a3ce9e9d0158",
   "metadata": {},
   "outputs": [],
   "source": [
    "import mlflow\n",
    "from mlflow.entities import ViewType\n",
    "\n",
    "model_of_interest = \"GPT-4\"\n",
    "gpt_4_runs_global = mlflow.search_runs(\n",
    "    filter_string=f\"params.model = '{model_of_interest}'\",\n",
    "    run_view_type=ViewType.ALL,\n",
    "    search_all_experiments=True,\n",
    ")\n"
   ]
  },
  {
   "cell_type": "code",
   "execution_count": null,
   "id": "7ea2b775-5a90-44bb-83dd-059c444df352",
   "metadata": {},
   "outputs": [],
   "source": [
    "gpt_4_runs_global"
   ]
  },
  {
   "cell_type": "code",
   "execution_count": null,
   "id": "a22fc499-bb68-460d-b9b7-19b22a771b9b",
   "metadata": {},
   "outputs": [],
   "source": []
  },
  {
   "cell_type": "code",
   "execution_count": null,
   "id": "506013f9-a916-4386-a766-fcd6d73c250a",
   "metadata": {},
   "outputs": [],
   "source": []
  },
  {
   "cell_type": "code",
   "execution_count": null,
   "id": "8e670fcb-4bc1-4d0b-8bc0-3ef3c7e99832",
   "metadata": {},
   "outputs": [],
   "source": []
  }
 ],
 "metadata": {
  "kernelspec": {
   "display_name": "Python 3 (ipykernel)",
   "language": "python",
   "name": "python3"
  },
  "language_info": {
   "codemirror_mode": {
    "name": "ipython",
    "version": 3
   },
   "file_extension": ".py",
   "mimetype": "text/x-python",
   "name": "python",
   "nbconvert_exporter": "python",
   "pygments_lexer": "ipython3",
   "version": "3.9.7"
  }
 },
 "nbformat": 4,
 "nbformat_minor": 5
}
